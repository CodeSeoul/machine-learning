{
 "cells": [
  {
   "cell_type": "markdown",
   "metadata": {
    "collapsed": true
   },
   "source": [
    "# Intro to PyTorch Hooks - Coding Session\n",
    "\n",
    "In this tutorial, you will learn to utilize PyTorch hooks. Since we discussed what a PyTorch hook is in the presentation part, we will use this time to dive into the coding aspect. \n",
    "\n",
    "The tutorial will be divided into the following three sections.\n",
    "\n",
    "1. Forward pre-hook\n",
    "2. Forward hook\n",
    "3. Backward hook"
   ]
  },
  {
   "cell_type": "code",
   "execution_count": 16,
   "metadata": {},
   "outputs": [],
   "source": [
    "import typing as t\n",
    "\n",
    "# Mathematical operations\n",
    "import numpy as np\n",
    "\n",
    "# PyTorch\n",
    "import torch\n",
    "import torch.nn as nn\n",
    "import torch.nn.functional as F\n",
    "\n",
    "# Default network for testing\n",
    "class LinearModel(nn.Module):\n",
    "    def __init__(self):\n",
    "        super().__init__()\n",
    "        self.fc_1 = nn.Linear(10, 20)\n",
    "        self.fc_2 = nn.Linear(20, 30)\n",
    "        self.fc_3 = nn.Linear(30, 2)\n",
    "        self.relu = lambda x: F.relu(x)\n",
    "\n",
    "    def forward(self, input_tensor: torch.Tensor) -> torch.Tensor:\n",
    "        first_output = self.fc_1(input_tensor)\n",
    "        second_output = self.fc_2(first_output)\n",
    "        third_output = self.fc_3(second_output)\n",
    "        final_output = self.relu(third_output)\n",
    "        return final_output"
   ]
  },
  {
   "cell_type": "markdown",
   "metadata": {},
   "source": [
    "## 1. Forward pre-hook\n",
    "\n",
    "Forward pre-hooks are used to debug / pre-process inputs into a `nn.Module`. \n",
    "\n",
    "\n",
    "### Exercise 1.1\n",
    "\n",
    "Given the `LinearModel` above, using the PyTorch forward pre-hook.\n",
    "\n",
    "1. Add a forward pre_hook to `fc_1` and `fc_3`. Print out the origina input and the tensor shape.\n",
    "2. Afterwards, try passing in a random tensor created using `torch.randn` or your function of choice and check whether the hook is working as intended.\n",
    "3. Lastly, try removing the hook attached to `fc_3`. \n",
    "4. Afterwards, try passing in a random tensor created using `torch.randn` or your function of choice and check whether the hook to `fc_3` has been successfully removed.\n"
   ]
  },
  {
   "cell_type": "code",
   "execution_count": 17,
   "metadata": {},
   "outputs": [],
   "source": [
    "# Write your code for Exercise 1.1 here \n",
    "# -----------------------------------"
   ]
  },
  {
   "cell_type": "markdown",
   "metadata": {},
   "source": [
    "\n",
    "### Exercise 1.2 \n",
    "\n",
    "Right now, there is no way to add hooks onto the relu activation, because the `ReLU` activation is not implemented"
   ]
  },
  {
   "cell_type": "code",
   "execution_count": 18,
   "metadata": {},
   "outputs": [],
   "source": [
    "# Write your code for Exercise 1.2 here \n",
    "# -----------------------------------"
   ]
  },
  {
   "cell_type": "markdown",
   "metadata": {},
   "source": [
    "## 2. Forward Hook\n",
    "\n",
    "Forward hooks are used for debugging the forward pass of a `nn.Module`. It is a useful tool to check that each operation inside of your neural network is outputting expected values. \n",
    "\n",
    "It is also useful for visualizing and tracking the outputs of a neural network over time during the training phase, which can be very useful for debugging the training code."
   ]
  },
  {
   "cell_type": "code",
   "execution_count": null,
   "metadata": {},
   "outputs": [],
   "source": []
  },
  {
   "cell_type": "code",
   "execution_count": null,
   "metadata": {},
   "outputs": [],
   "source": []
  }
 ],
 "metadata": {
  "kernelspec": {
   "display_name": "Python 3 (ipykernel)",
   "language": "python",
   "name": "python3"
  },
  "language_info": {
   "codemirror_mode": {
    "name": "ipython",
    "version": 3
   },
   "file_extension": ".py",
   "mimetype": "text/x-python",
   "name": "python",
   "nbconvert_exporter": "python",
   "pygments_lexer": "ipython3",
   "version": "3.11.2"
  }
 },
 "nbformat": 4,
 "nbformat_minor": 1
}
