{
 "cells": [
  {
   "attachments": {},
   "cell_type": "markdown",
   "metadata": {
    "collapsed": true
   },
   "source": [
    "# Intro to PyTorch Hooks - Coding Session\n",
    "\n",
    "In this tutorial, you will learn to utilize PyTorch hooks. Since we discussed what a PyTorch hook is in the presentation part, we will use this time to dive into the coding aspect. \n",
    "\n",
    "The tutorial will be divided into the following three sections.\n",
    "\n",
    "1. Forward pre-hook\n",
    "2. Forward hook\n",
    "3. Backward hook"
   ]
  },
  {
   "cell_type": "code",
   "execution_count": null,
   "metadata": {},
   "outputs": [],
   "source": [
    "import typing as t\n",
    "\n",
    "# Mathematical operations\n",
    "import numpy as np\n",
    "\n",
    "# PyTorch\n",
    "import torch\n",
    "import torch.nn as nn\n",
    "import torch.nn.functional as F\n",
    "\n",
    "# Default network for testing\n",
    "class LinearModel(nn.Module):\n",
    "    def __init__(self):\n",
    "        super().__init__()\n",
    "        self.fc_1 = nn.Linear(10, 20)\n",
    "        self.fc_2 = nn.Linear(20, 30)\n",
    "        self.fc_3 = nn.Linear(30, 2)\n",
    "        self.relu = lambda x: F.relu(x)\n",
    "\n",
    "    def forward(self, input_tensor: torch.Tensor) -> torch.Tensor:\n",
    "        first_output = self.fc_1(input_tensor)\n",
    "        second_output = self.fc_2(first_output)\n",
    "        third_output = self.fc_3(second_output)\n",
    "        final_output = self.relu(third_output)\n",
    "        return final_output"
   ]
  },
  {
   "attachments": {},
   "cell_type": "markdown",
   "metadata": {},
   "source": [
    "## 1. Forward pre-hook\n",
    "\n",
    "Forward pre-hooks are used to pre-process / validate inputs into a `nn.Module`. \n"
   ]
  },
  {
   "cell_type": "code",
   "execution_count": null,
   "metadata": {},
   "outputs": [],
   "source": [
    "tensor = torch.tensor([1, 2])\n",
    "tensor\n"
   ]
  },
  {
   "cell_type": "code",
   "execution_count": null,
   "metadata": {},
   "outputs": [],
   "source": []
  }
 ],
 "metadata": {
  "kernelspec": {
   "display_name": "Python 3 (ipykernel)",
   "language": "python",
   "name": "python3"
  },
  "language_info": {
   "codemirror_mode": {
    "name": "ipython",
    "version": 3
   },
   "file_extension": ".py",
   "mimetype": "text/x-python",
   "name": "python",
   "nbconvert_exporter": "python",
   "pygments_lexer": "ipython3",
   "version": "3.8.15"
  }
 },
 "nbformat": 4,
 "nbformat_minor": 1
}
